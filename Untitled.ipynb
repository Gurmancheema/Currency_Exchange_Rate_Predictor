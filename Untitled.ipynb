{
 "cells": [
  {
   "cell_type": "code",
   "execution_count": 6,
   "id": "6ee1b490-3dbd-4078-86fb-278475649c73",
   "metadata": {},
   "outputs": [
    {
     "name": "stdout",
     "output_type": "stream",
     "text": [
      "3.11.8 | packaged by Anaconda, Inc. | (main, Feb 26 2024, 21:34:05) [MSC v.1916 64 bit (AMD64)]\n"
     ]
    }
   ],
   "source": [
    "import sys\n",
    "print(sys.version)"
   ]
  },
  {
   "cell_type": "code",
   "execution_count": 8,
   "id": "11b90feb-ccff-4a9b-ad5c-b18ae6064ec0",
   "metadata": {},
   "outputs": [
    {
     "name": "stdout",
     "output_type": "stream",
     "text": [
      "Collecting yfinance\n",
      "  Obtaining dependency information for yfinance from https://files.pythonhosted.org/packages/51/31/72b8f5aa9ed9c4a6afd09c0bab491862ba5837facf7d81e1ed51a555ae8e/yfinance-0.2.44-py2.py3-none-any.whl.metadata\n",
      "  Downloading yfinance-0.2.44-py2.py3-none-any.whl.metadata (13 kB)\n",
      "Requirement already satisfied: pandas>=1.3.0 in c:\\users\\gurma\\anaconda3\\lib\\site-packages (from yfinance) (2.1.4)\n",
      "Requirement already satisfied: numpy>=1.16.5 in c:\\users\\gurma\\anaconda3\\lib\\site-packages (from yfinance) (1.24.3)\n",
      "Requirement already satisfied: requests>=2.31 in c:\\users\\gurma\\anaconda3\\lib\\site-packages (from yfinance) (2.31.0)\n",
      "Collecting multitasking>=0.0.7 (from yfinance)\n",
      "  Obtaining dependency information for multitasking>=0.0.7 from https://files.pythonhosted.org/packages/3e/8a/bb3160e76e844db9e69a413f055818969c8acade64e1a9ac5ce9dfdcf6c1/multitasking-0.0.11-py3-none-any.whl.metadata\n",
      "  Downloading multitasking-0.0.11-py3-none-any.whl.metadata (5.5 kB)\n",
      "Requirement already satisfied: lxml>=4.9.1 in c:\\users\\gurma\\anaconda3\\lib\\site-packages (from yfinance) (4.9.3)\n",
      "Requirement already satisfied: platformdirs>=2.0.0 in c:\\users\\gurma\\anaconda3\\lib\\site-packages (from yfinance) (3.10.0)\n",
      "Requirement already satisfied: pytz>=2022.5 in c:\\users\\gurma\\anaconda3\\lib\\site-packages (from yfinance) (2023.3.post1)\n",
      "Collecting frozendict>=2.3.4 (from yfinance)\n",
      "  Obtaining dependency information for frozendict>=2.3.4 from https://files.pythonhosted.org/packages/6a/71/3656c00606e75e81f11721e6a1c973c3e03da8c7d8b665d20f78245384c6/frozendict-2.4.4-py311-none-any.whl.metadata\n",
      "  Downloading frozendict-2.4.4-py311-none-any.whl.metadata (23 kB)\n",
      "Collecting peewee>=3.16.2 (from yfinance)\n",
      "  Downloading peewee-3.17.6.tar.gz (3.0 MB)\n",
      "     ---------------------------------------- 0.0/3.0 MB ? eta -:--:--\n",
      "      --------------------------------------- 0.0/3.0 MB 991.0 kB/s eta 0:00:03\n",
      "     ---- ----------------------------------- 0.3/3.0 MB 4.3 MB/s eta 0:00:01\n",
      "     ---------------- ----------------------- 1.2/3.0 MB 9.8 MB/s eta 0:00:01\n",
      "     ---------------------------------------  2.9/3.0 MB 17.1 MB/s eta 0:00:01\n",
      "     ---------------------------------------- 3.0/3.0 MB 13.5 MB/s eta 0:00:00\n",
      "  Installing build dependencies: started\n",
      "  Installing build dependencies: finished with status 'done'\n",
      "  Getting requirements to build wheel: started\n",
      "  Getting requirements to build wheel: finished with status 'done'\n",
      "  Preparing metadata (pyproject.toml): started\n",
      "  Preparing metadata (pyproject.toml): finished with status 'done'\n",
      "Requirement already satisfied: beautifulsoup4>=4.11.1 in c:\\users\\gurma\\anaconda3\\lib\\site-packages (from yfinance) (4.12.2)\n",
      "Collecting html5lib>=1.1 (from yfinance)\n",
      "  Obtaining dependency information for html5lib>=1.1 from https://files.pythonhosted.org/packages/6c/dd/a834df6482147d48e225a49515aabc28974ad5a4ca3215c18a882565b028/html5lib-1.1-py2.py3-none-any.whl.metadata\n",
      "  Downloading html5lib-1.1-py2.py3-none-any.whl.metadata (16 kB)\n",
      "Requirement already satisfied: soupsieve>1.2 in c:\\users\\gurma\\anaconda3\\lib\\site-packages (from beautifulsoup4>=4.11.1->yfinance) (2.5)\n",
      "Requirement already satisfied: six>=1.9 in c:\\users\\gurma\\anaconda3\\lib\\site-packages (from html5lib>=1.1->yfinance) (1.16.0)\n",
      "Requirement already satisfied: webencodings in c:\\users\\gurma\\anaconda3\\lib\\site-packages (from html5lib>=1.1->yfinance) (0.5.1)\n",
      "Requirement already satisfied: python-dateutil>=2.8.2 in c:\\users\\gurma\\anaconda3\\lib\\site-packages (from pandas>=1.3.0->yfinance) (2.8.2)\n",
      "Requirement already satisfied: tzdata>=2022.1 in c:\\users\\gurma\\anaconda3\\lib\\site-packages (from pandas>=1.3.0->yfinance) (2023.3)\n",
      "Requirement already satisfied: charset-normalizer<4,>=2 in c:\\users\\gurma\\anaconda3\\lib\\site-packages (from requests>=2.31->yfinance) (2.0.4)\n",
      "Requirement already satisfied: idna<4,>=2.5 in c:\\users\\gurma\\anaconda3\\lib\\site-packages (from requests>=2.31->yfinance) (2.10)\n",
      "Requirement already satisfied: urllib3<3,>=1.21.1 in c:\\users\\gurma\\anaconda3\\lib\\site-packages (from requests>=2.31->yfinance) (1.25.11)\n",
      "Requirement already satisfied: certifi>=2017.4.17 in c:\\users\\gurma\\anaconda3\\lib\\site-packages (from requests>=2.31->yfinance) (2024.2.2)\n",
      "Downloading yfinance-0.2.44-py2.py3-none-any.whl (94 kB)\n",
      "   ---------------------------------------- 0.0/94.6 kB ? eta -:--:--\n",
      "   ---------------------------------------- 94.6/94.6 kB 5.3 MB/s eta 0:00:00\n",
      "Downloading frozendict-2.4.4-py311-none-any.whl (16 kB)\n",
      "Downloading html5lib-1.1-py2.py3-none-any.whl (112 kB)\n",
      "   ---------------------------------------- 0.0/112.2 kB ? eta -:--:--\n",
      "   ---------------------------------------- 112.2/112.2 kB 6.4 MB/s eta 0:00:00\n",
      "Downloading multitasking-0.0.11-py3-none-any.whl (8.5 kB)\n",
      "Building wheels for collected packages: peewee\n",
      "  Building wheel for peewee (pyproject.toml): started\n",
      "  Building wheel for peewee (pyproject.toml): finished with status 'done'\n",
      "  Created wheel for peewee: filename=peewee-3.17.6-py3-none-any.whl size=138939 sha256=e31b667902010a56413f834cb37e0d7b2f67bc83cf574b6a7ccd1252a619986a\n",
      "  Stored in directory: c:\\users\\gurma\\appdata\\local\\pip\\cache\\wheels\\1c\\09\\7e\\9f659fde248ecdc1722a142c1d744271aad3914a0afc191058\n",
      "Successfully built peewee\n",
      "Installing collected packages: peewee, multitasking, html5lib, frozendict, yfinance\n",
      "Successfully installed frozendict-2.4.4 html5lib-1.1 multitasking-0.0.11 peewee-3.17.6 yfinance-0.2.44\n",
      "Note: you may need to restart the kernel to use updated packages.\n"
     ]
    }
   ],
   "source": [
    "pip install yfinance"
   ]
  },
  {
   "cell_type": "code",
   "execution_count": 9,
   "id": "f9f086b6-fd8c-4ecd-a7fe-bab93912015d",
   "metadata": {},
   "outputs": [],
   "source": [
    "import yfinance as yf"
   ]
  },
  {
   "cell_type": "code",
   "execution_count": 22,
   "id": "e0407bc1-1c7b-4f18-a544-53e320a39274",
   "metadata": {},
   "outputs": [],
   "source": [
    "ticker = yf.Ticker(\"CADINR=X\")\n",
    "data = ticker.history(period=\"5y\")"
   ]
  },
  {
   "cell_type": "code",
   "execution_count": 27,
   "id": "3fb74e86-fa72-43e8-bdb8-d2a446bb6458",
   "metadata": {},
   "outputs": [
    {
     "data": {
      "text/plain": [
       "pandas.core.frame.DataFrame"
      ]
     },
     "execution_count": 27,
     "metadata": {},
     "output_type": "execute_result"
    }
   ],
   "source": [
    "type(data)"
   ]
  },
  {
   "cell_type": "code",
   "execution_count": 28,
   "id": "ae8320f9-5b27-4082-9db3-f05926680610",
   "metadata": {},
   "outputs": [
    {
     "data": {
      "text/html": [
       "<div>\n",
       "<style scoped>\n",
       "    .dataframe tbody tr th:only-of-type {\n",
       "        vertical-align: middle;\n",
       "    }\n",
       "\n",
       "    .dataframe tbody tr th {\n",
       "        vertical-align: top;\n",
       "    }\n",
       "\n",
       "    .dataframe thead th {\n",
       "        text-align: right;\n",
       "    }\n",
       "</style>\n",
       "<table border=\"1\" class=\"dataframe\">\n",
       "  <thead>\n",
       "    <tr style=\"text-align: right;\">\n",
       "      <th></th>\n",
       "      <th>Open</th>\n",
       "      <th>High</th>\n",
       "      <th>Low</th>\n",
       "      <th>Close</th>\n",
       "      <th>Volume</th>\n",
       "      <th>Dividends</th>\n",
       "      <th>Stock Splits</th>\n",
       "    </tr>\n",
       "    <tr>\n",
       "      <th>Date</th>\n",
       "      <th></th>\n",
       "      <th></th>\n",
       "      <th></th>\n",
       "      <th></th>\n",
       "      <th></th>\n",
       "      <th></th>\n",
       "      <th></th>\n",
       "    </tr>\n",
       "  </thead>\n",
       "  <tbody>\n",
       "    <tr>\n",
       "      <th>2019-10-01 00:00:00+01:00</th>\n",
       "      <td>53.291000</td>\n",
       "      <td>53.745998</td>\n",
       "      <td>53.264999</td>\n",
       "      <td>53.287998</td>\n",
       "      <td>0</td>\n",
       "      <td>0.0</td>\n",
       "      <td>0.0</td>\n",
       "    </tr>\n",
       "    <tr>\n",
       "      <th>2019-10-02 00:00:00+01:00</th>\n",
       "      <td>53.740002</td>\n",
       "      <td>53.801998</td>\n",
       "      <td>53.419998</td>\n",
       "      <td>53.740002</td>\n",
       "      <td>0</td>\n",
       "      <td>0.0</td>\n",
       "      <td>0.0</td>\n",
       "    </tr>\n",
       "    <tr>\n",
       "      <th>2019-10-03 00:00:00+01:00</th>\n",
       "      <td>53.320999</td>\n",
       "      <td>53.474998</td>\n",
       "      <td>53.105000</td>\n",
       "      <td>53.324001</td>\n",
       "      <td>0</td>\n",
       "      <td>0.0</td>\n",
       "      <td>0.0</td>\n",
       "    </tr>\n",
       "    <tr>\n",
       "      <th>2019-10-04 00:00:00+01:00</th>\n",
       "      <td>53.202000</td>\n",
       "      <td>53.283001</td>\n",
       "      <td>53.041000</td>\n",
       "      <td>53.214001</td>\n",
       "      <td>0</td>\n",
       "      <td>0.0</td>\n",
       "      <td>0.0</td>\n",
       "    </tr>\n",
       "    <tr>\n",
       "      <th>2019-10-07 00:00:00+01:00</th>\n",
       "      <td>52.560001</td>\n",
       "      <td>53.366001</td>\n",
       "      <td>52.560001</td>\n",
       "      <td>53.154999</td>\n",
       "      <td>0</td>\n",
       "      <td>0.0</td>\n",
       "      <td>0.0</td>\n",
       "    </tr>\n",
       "  </tbody>\n",
       "</table>\n",
       "</div>"
      ],
      "text/plain": [
       "                                Open       High        Low      Close  Volume  \\\n",
       "Date                                                                            \n",
       "2019-10-01 00:00:00+01:00  53.291000  53.745998  53.264999  53.287998       0   \n",
       "2019-10-02 00:00:00+01:00  53.740002  53.801998  53.419998  53.740002       0   \n",
       "2019-10-03 00:00:00+01:00  53.320999  53.474998  53.105000  53.324001       0   \n",
       "2019-10-04 00:00:00+01:00  53.202000  53.283001  53.041000  53.214001       0   \n",
       "2019-10-07 00:00:00+01:00  52.560001  53.366001  52.560001  53.154999       0   \n",
       "\n",
       "                           Dividends  Stock Splits  \n",
       "Date                                                \n",
       "2019-10-01 00:00:00+01:00        0.0           0.0  \n",
       "2019-10-02 00:00:00+01:00        0.0           0.0  \n",
       "2019-10-03 00:00:00+01:00        0.0           0.0  \n",
       "2019-10-04 00:00:00+01:00        0.0           0.0  \n",
       "2019-10-07 00:00:00+01:00        0.0           0.0  "
      ]
     },
     "execution_count": 28,
     "metadata": {},
     "output_type": "execute_result"
    }
   ],
   "source": [
    "import pandas as pd\n",
    "df=pd.DataFrame(data)\n",
    "df.head()"
   ]
  },
  {
   "cell_type": "code",
   "execution_count": 30,
   "id": "35be6d0f-fea8-4076-8f3c-940ea267915e",
   "metadata": {},
   "outputs": [
    {
     "data": {
      "text/plain": [
       "(1305, 7)"
      ]
     },
     "execution_count": 30,
     "metadata": {},
     "output_type": "execute_result"
    }
   ],
   "source": [
    "df.shape"
   ]
  },
  {
   "cell_type": "code",
   "execution_count": 32,
   "id": "9463270a-a57f-4cd1-99a6-1f122ed4801e",
   "metadata": {},
   "outputs": [
    {
     "data": {
      "text/html": [
       "<div>\n",
       "<style scoped>\n",
       "    .dataframe tbody tr th:only-of-type {\n",
       "        vertical-align: middle;\n",
       "    }\n",
       "\n",
       "    .dataframe tbody tr th {\n",
       "        vertical-align: top;\n",
       "    }\n",
       "\n",
       "    .dataframe thead th {\n",
       "        text-align: right;\n",
       "    }\n",
       "</style>\n",
       "<table border=\"1\" class=\"dataframe\">\n",
       "  <thead>\n",
       "    <tr style=\"text-align: right;\">\n",
       "      <th></th>\n",
       "      <th>Open</th>\n",
       "      <th>High</th>\n",
       "      <th>Low</th>\n",
       "      <th>Close</th>\n",
       "      <th>Volume</th>\n",
       "      <th>Dividends</th>\n",
       "      <th>Stock Splits</th>\n",
       "    </tr>\n",
       "  </thead>\n",
       "  <tbody>\n",
       "    <tr>\n",
       "      <th>count</th>\n",
       "      <td>1305.000000</td>\n",
       "      <td>1305.000000</td>\n",
       "      <td>1305.000000</td>\n",
       "      <td>1305.000000</td>\n",
       "      <td>1305.0</td>\n",
       "      <td>1305.0</td>\n",
       "      <td>1305.0</td>\n",
       "    </tr>\n",
       "    <tr>\n",
       "      <th>mean</th>\n",
       "      <td>58.892061</td>\n",
       "      <td>59.177094</td>\n",
       "      <td>58.736232</td>\n",
       "      <td>58.978107</td>\n",
       "      <td>0.0</td>\n",
       "      <td>0.0</td>\n",
       "      <td>0.0</td>\n",
       "    </tr>\n",
       "    <tr>\n",
       "      <th>std</th>\n",
       "      <td>2.658691</td>\n",
       "      <td>2.653167</td>\n",
       "      <td>2.668961</td>\n",
       "      <td>2.643402</td>\n",
       "      <td>0.0</td>\n",
       "      <td>0.0</td>\n",
       "      <td>0.0</td>\n",
       "    </tr>\n",
       "    <tr>\n",
       "      <th>min</th>\n",
       "      <td>51.283669</td>\n",
       "      <td>51.988758</td>\n",
       "      <td>50.778564</td>\n",
       "      <td>51.517307</td>\n",
       "      <td>0.0</td>\n",
       "      <td>0.0</td>\n",
       "      <td>0.0</td>\n",
       "    </tr>\n",
       "    <tr>\n",
       "      <th>25%</th>\n",
       "      <td>57.201084</td>\n",
       "      <td>57.407448</td>\n",
       "      <td>57.039898</td>\n",
       "      <td>57.233238</td>\n",
       "      <td>0.0</td>\n",
       "      <td>0.0</td>\n",
       "      <td>0.0</td>\n",
       "    </tr>\n",
       "    <tr>\n",
       "      <th>50%</th>\n",
       "      <td>59.957020</td>\n",
       "      <td>60.299641</td>\n",
       "      <td>59.817886</td>\n",
       "      <td>60.093193</td>\n",
       "      <td>0.0</td>\n",
       "      <td>0.0</td>\n",
       "      <td>0.0</td>\n",
       "    </tr>\n",
       "    <tr>\n",
       "      <th>75%</th>\n",
       "      <td>60.909737</td>\n",
       "      <td>61.188248</td>\n",
       "      <td>60.755508</td>\n",
       "      <td>61.015823</td>\n",
       "      <td>0.0</td>\n",
       "      <td>0.0</td>\n",
       "      <td>0.0</td>\n",
       "    </tr>\n",
       "    <tr>\n",
       "      <th>max</th>\n",
       "      <td>63.004181</td>\n",
       "      <td>63.129829</td>\n",
       "      <td>62.829025</td>\n",
       "      <td>63.006218</td>\n",
       "      <td>0.0</td>\n",
       "      <td>0.0</td>\n",
       "      <td>0.0</td>\n",
       "    </tr>\n",
       "  </tbody>\n",
       "</table>\n",
       "</div>"
      ],
      "text/plain": [
       "              Open         High          Low        Close  Volume  Dividends  \\\n",
       "count  1305.000000  1305.000000  1305.000000  1305.000000  1305.0     1305.0   \n",
       "mean     58.892061    59.177094    58.736232    58.978107     0.0        0.0   \n",
       "std       2.658691     2.653167     2.668961     2.643402     0.0        0.0   \n",
       "min      51.283669    51.988758    50.778564    51.517307     0.0        0.0   \n",
       "25%      57.201084    57.407448    57.039898    57.233238     0.0        0.0   \n",
       "50%      59.957020    60.299641    59.817886    60.093193     0.0        0.0   \n",
       "75%      60.909737    61.188248    60.755508    61.015823     0.0        0.0   \n",
       "max      63.004181    63.129829    62.829025    63.006218     0.0        0.0   \n",
       "\n",
       "       Stock Splits  \n",
       "count        1305.0  \n",
       "mean            0.0  \n",
       "std             0.0  \n",
       "min             0.0  \n",
       "25%             0.0  \n",
       "50%             0.0  \n",
       "75%             0.0  \n",
       "max             0.0  "
      ]
     },
     "execution_count": 32,
     "metadata": {},
     "output_type": "execute_result"
    }
   ],
   "source": [
    "df.describe()"
   ]
  },
  {
   "cell_type": "code",
   "execution_count": 33,
   "id": "b4a6e577-3d89-4ea4-b272-3522965106df",
   "metadata": {},
   "outputs": [
    {
     "data": {
      "text/plain": [
       "(1305, 7)"
      ]
     },
     "execution_count": 33,
     "metadata": {},
     "output_type": "execute_result"
    }
   ],
   "source": [
    "df.shape"
   ]
  },
  {
   "cell_type": "code",
   "execution_count": 34,
   "id": "85b72ccc-5690-4fc1-aa59-e116471f083c",
   "metadata": {},
   "outputs": [
    {
     "data": {
      "text/html": [
       "<div>\n",
       "<style scoped>\n",
       "    .dataframe tbody tr th:only-of-type {\n",
       "        vertical-align: middle;\n",
       "    }\n",
       "\n",
       "    .dataframe tbody tr th {\n",
       "        vertical-align: top;\n",
       "    }\n",
       "\n",
       "    .dataframe thead th {\n",
       "        text-align: right;\n",
       "    }\n",
       "</style>\n",
       "<table border=\"1\" class=\"dataframe\">\n",
       "  <thead>\n",
       "    <tr style=\"text-align: right;\">\n",
       "      <th></th>\n",
       "      <th>Open</th>\n",
       "      <th>High</th>\n",
       "      <th>Low</th>\n",
       "      <th>Close</th>\n",
       "    </tr>\n",
       "    <tr>\n",
       "      <th>Date</th>\n",
       "      <th></th>\n",
       "      <th></th>\n",
       "      <th></th>\n",
       "      <th></th>\n",
       "    </tr>\n",
       "  </thead>\n",
       "  <tbody>\n",
       "    <tr>\n",
       "      <th>2019-10-01 00:00:00+01:00</th>\n",
       "      <td>53.291000</td>\n",
       "      <td>53.745998</td>\n",
       "      <td>53.264999</td>\n",
       "      <td>53.287998</td>\n",
       "    </tr>\n",
       "    <tr>\n",
       "      <th>2019-10-02 00:00:00+01:00</th>\n",
       "      <td>53.740002</td>\n",
       "      <td>53.801998</td>\n",
       "      <td>53.419998</td>\n",
       "      <td>53.740002</td>\n",
       "    </tr>\n",
       "    <tr>\n",
       "      <th>2019-10-03 00:00:00+01:00</th>\n",
       "      <td>53.320999</td>\n",
       "      <td>53.474998</td>\n",
       "      <td>53.105000</td>\n",
       "      <td>53.324001</td>\n",
       "    </tr>\n",
       "    <tr>\n",
       "      <th>2019-10-04 00:00:00+01:00</th>\n",
       "      <td>53.202000</td>\n",
       "      <td>53.283001</td>\n",
       "      <td>53.041000</td>\n",
       "      <td>53.214001</td>\n",
       "    </tr>\n",
       "    <tr>\n",
       "      <th>2019-10-07 00:00:00+01:00</th>\n",
       "      <td>52.560001</td>\n",
       "      <td>53.366001</td>\n",
       "      <td>52.560001</td>\n",
       "      <td>53.154999</td>\n",
       "    </tr>\n",
       "  </tbody>\n",
       "</table>\n",
       "</div>"
      ],
      "text/plain": [
       "                                Open       High        Low      Close\n",
       "Date                                                                 \n",
       "2019-10-01 00:00:00+01:00  53.291000  53.745998  53.264999  53.287998\n",
       "2019-10-02 00:00:00+01:00  53.740002  53.801998  53.419998  53.740002\n",
       "2019-10-03 00:00:00+01:00  53.320999  53.474998  53.105000  53.324001\n",
       "2019-10-04 00:00:00+01:00  53.202000  53.283001  53.041000  53.214001\n",
       "2019-10-07 00:00:00+01:00  52.560001  53.366001  52.560001  53.154999"
      ]
     },
     "execution_count": 34,
     "metadata": {},
     "output_type": "execute_result"
    }
   ],
   "source": [
    "df = df.drop(['Volume','Dividends','Stock Splits'],axis=1)\n",
    "df.head()"
   ]
  },
  {
   "cell_type": "markdown",
   "id": "8c6b8b2b-bfd0-4292-8c4a-1fe2c99bbedc",
   "metadata": {},
   "source": [
    "## lets get the date out of index from the dataframe"
   ]
  },
  {
   "cell_type": "code",
   "execution_count": null,
   "id": "6665d396-84ec-4be9-af86-3087b6bd52f9",
   "metadata": {},
   "outputs": [],
   "source": []
  }
 ],
 "metadata": {
  "kernelspec": {
   "display_name": "Python 3 (ipykernel)",
   "language": "python",
   "name": "python3"
  },
  "language_info": {
   "codemirror_mode": {
    "name": "ipython",
    "version": 3
   },
   "file_extension": ".py",
   "mimetype": "text/x-python",
   "name": "python",
   "nbconvert_exporter": "python",
   "pygments_lexer": "ipython3",
   "version": "3.11.8"
  }
 },
 "nbformat": 4,
 "nbformat_minor": 5
}
